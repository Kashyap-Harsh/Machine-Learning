{
  "nbformat": 4,
  "nbformat_minor": 0,
  "metadata": {
    "colab": {
      "name": "Diabetes Prediction Using KNN.ipynb",
      "provenance": []
    },
    "kernelspec": {
      "name": "python3",
      "display_name": "Python 3"
    },
    "language_info": {
      "name": "python"
    }
  },
  "cells": [
    {
      "cell_type": "markdown",
      "metadata": {
        "id": "VFKLz07_Edgp"
      },
      "source": [
        "# USING KNN TO PREDICT WHETHER SOMEONE IS DIABETIC OR NOT (USING IN BUILT FN AS WELL SELF MADE FUNCTION)"
      ]
    },
    {
      "cell_type": "code",
      "metadata": {
        "id": "_SKlt-ySBb3o"
      },
      "source": [
        "import matplotlib.pyplot as plt\n",
        "import numpy as np\n",
        "import pandas as pd"
      ],
      "execution_count": 2,
      "outputs": []
    },
    {
      "cell_type": "code",
      "metadata": {
        "id": "bGqp2vrDBi9K"
      },
      "source": [
        "X1=pd.read_csv(\"Diabetes_XTrain.csv\")\n",
        "X2=pd.read_csv(\"Diabetes_YTrain.csv\")"
      ],
      "execution_count": 3,
      "outputs": []
    },
    {
      "cell_type": "code",
      "metadata": {
        "colab": {
          "base_uri": "https://localhost:8080/"
        },
        "id": "kfF0tiJHBkez",
        "outputId": "55a06c32-09f3-4f3b-d57a-c1b834920b61"
      },
      "source": [
        "#In built function\n",
        "from sklearn.model_selection import train_test_split as tts\n",
        "Xtrain,Xtest,Ytrain,Ytest=tts(X1,X2,test_size=0.2)\n",
        "print(Xtrain.shape)"
      ],
      "execution_count": 21,
      "outputs": [
        {
          "output_type": "stream",
          "name": "stdout",
          "text": [
            "(460, 8)\n"
          ]
        }
      ]
    },
    {
      "cell_type": "code",
      "metadata": {
        "id": "H_PEpoVMBmZH"
      },
      "source": [
        "def dist(x1,x2):\n",
        "  return np.sqrt(sum((x1-x2)**2))\n",
        "\n",
        "def knn(X,Y,queryPoint,k=10):\n",
        "  vals=[]\n",
        "  m=X.shape[0]\n",
        "\n",
        "  for i in range(m):\n",
        "    d=dist(queryPoint,X[i])\n",
        "    vals.append((d,Y[i]))\n",
        "\n",
        "  vals=sorted(vals)\n",
        "  vals=np.array(vals[0:k])\n",
        "  #vals=np.array(vals)\n",
        "  new_vals=np.unique(vals[:,1],return_counts=True)\n",
        "  #print(new_vals)\n",
        "  index=new_vals[1].argmax()\n",
        "  pred=new_vals[0][index]\n",
        "  return pred"
      ],
      "execution_count": 5,
      "outputs": []
    },
    {
      "cell_type": "code",
      "metadata": {
        "id": "Otql8HTTBoeG"
      },
      "source": [
        "Xtrain=np.array(Xtrain)\n",
        "Xtest=np.array(Xtest)\n",
        "Ytrain=np.array(Ytrain)\n",
        "Ytest=np.array(Ytest)"
      ],
      "execution_count": 22,
      "outputs": []
    },
    {
      "cell_type": "code",
      "metadata": {
        "colab": {
          "base_uri": "https://localhost:8080/"
        },
        "id": "dCl36UinBtHD",
        "outputId": "6af6965b-debf-403b-f881-271bdca024bc"
      },
      "source": [
        "y_pred=np.ones(Xtest.shape[0])\n",
        "#i=int(input(\"Enter pixel no : \"))\n",
        "for i in range(Xtest.shape[0]):\n",
        "  y_pred[i]=knn(Xtrain,Ytrain,Xtest[i])\n",
        "#if(int(pred)==0):\n",
        "#  obs=\"No diabetes.\"\n",
        "#else:\n",
        "#  obs=\"Diabetes.\"\n",
        "#if(Ytest[i][0]==0):\n",
        "#  act=\"No diabetes.\"\n",
        "#else:\n",
        "#  act=\"Diabetes.\"\n",
        "#print(\"Predicted : \"+obs)\n",
        "#print(\"Actual : \"+act)\n",
        "from sklearn.metrics import classification_report, confusion_matrix\n",
        "print(confusion_matrix(Ytest, y_pred))\n",
        "print(classification_report(Ytest, y_pred))"
      ],
      "execution_count": 23,
      "outputs": [
        {
          "output_type": "stream",
          "name": "stderr",
          "text": [
            "/usr/local/lib/python3.7/dist-packages/ipykernel_launcher.py:13: VisibleDeprecationWarning: Creating an ndarray from ragged nested sequences (which is a list-or-tuple of lists-or-tuples-or ndarrays with different lengths or shapes) is deprecated. If you meant to do this, you must specify 'dtype=object' when creating the ndarray\n",
            "  del sys.path[0]\n"
          ]
        },
        {
          "output_type": "stream",
          "name": "stdout",
          "text": [
            "[[63 11]\n",
            " [18 24]]\n",
            "              precision    recall  f1-score   support\n",
            "\n",
            "           0       0.78      0.85      0.81        74\n",
            "           1       0.69      0.57      0.62        42\n",
            "\n",
            "    accuracy                           0.75       116\n",
            "   macro avg       0.73      0.71      0.72       116\n",
            "weighted avg       0.74      0.75      0.74       116\n",
            "\n"
          ]
        }
      ]
    },
    {
      "cell_type": "code",
      "metadata": {
        "colab": {
          "base_uri": "https://localhost:8080/"
        },
        "id": "femwBgKaBvq9",
        "outputId": "0abe3f65-b1de-4335-aff0-47456f17f215"
      },
      "source": [
        "#In built function\n",
        "from sklearn.model_selection import train_test_split as tts\n",
        "X_train,X_test,Y_train,Y_test=tts(X1,X2,test_size=0.2)\n",
        "print(Xtrain.shape)\n",
        "\n",
        "from sklearn.preprocessing import StandardScaler\n",
        "scaler = StandardScaler()\n",
        "scaler.fit(X_train)\n",
        "\n",
        "X_train = scaler.transform(X_train)\n",
        "X_test = scaler.transform(X_test)\n",
        "\n",
        "from sklearn.neighbors import KNeighborsClassifier\n",
        "classifier = KNeighborsClassifier(n_neighbors=10)\n",
        "classifier.fit(X_train, Y_train)\n",
        "\n",
        "y_pred = classifier.predict(X_test)\n",
        "from sklearn.metrics import classification_report, confusion_matrix\n",
        "print(confusion_matrix(Y_test, y_pred))\n",
        "print(classification_report(Y_test, y_pred))"
      ],
      "execution_count": 24,
      "outputs": [
        {
          "output_type": "stream",
          "name": "stdout",
          "text": [
            "(460, 8)\n",
            "[[61  8]\n",
            " [32 15]]\n",
            "              precision    recall  f1-score   support\n",
            "\n",
            "           0       0.66      0.88      0.75        69\n",
            "           1       0.65      0.32      0.43        47\n",
            "\n",
            "    accuracy                           0.66       116\n",
            "   macro avg       0.65      0.60      0.59       116\n",
            "weighted avg       0.65      0.66      0.62       116\n",
            "\n"
          ]
        },
        {
          "output_type": "stream",
          "name": "stderr",
          "text": [
            "/usr/local/lib/python3.7/dist-packages/sklearn/neighbors/_classification.py:198: DataConversionWarning: A column-vector y was passed when a 1d array was expected. Please change the shape of y to (n_samples,), for example using ravel().\n",
            "  return self._fit(X, y)\n"
          ]
        }
      ]
    },
    {
      "cell_type": "code",
      "metadata": {
        "colab": {
          "base_uri": "https://localhost:8080/"
        },
        "id": "PkRJXFbvBzmP",
        "outputId": "577870ab-e2e2-47c8-dec3-24f7069505d5"
      },
      "source": [
        "i=int(input(\"Enter patient no : \"))\n",
        "if(int(knn(Xtrain,Ytrain,Xtest[i])==0)):\n",
        "  obs=\"No diabetes.\"\n",
        "else:\n",
        "  obs=\"Diabetes.\"\n",
        "if(Ytest[i][0]==0):\n",
        "  act=\"No diabetes.\"\n",
        "else:\n",
        "  act=\"Diabetes.\"\n",
        "print(\"Predicted : \"+obs)\n",
        "print(\"Actual : \"+act)"
      ],
      "execution_count": 29,
      "outputs": [
        {
          "output_type": "stream",
          "name": "stdout",
          "text": [
            "Enter patient no : 23\n",
            "Predicted : No diabetes.\n",
            "Actual : No diabetes.\n"
          ]
        },
        {
          "output_type": "stream",
          "name": "stderr",
          "text": [
            "/usr/local/lib/python3.7/dist-packages/ipykernel_launcher.py:13: VisibleDeprecationWarning: Creating an ndarray from ragged nested sequences (which is a list-or-tuple of lists-or-tuples-or ndarrays with different lengths or shapes) is deprecated. If you meant to do this, you must specify 'dtype=object' when creating the ndarray\n",
            "  del sys.path[0]\n"
          ]
        }
      ]
    }
  ]
}